{
  "cells": [
    {
      "cell_type": "code",
      "execution_count": 1,
      "metadata": {
        "id": "7gD2_k5YYW9R"
      },
      "outputs": [],
      "source": [
        "# from google.colab import drive\n",
        "# drive.mount('/content/drive')"
      ]
    },
    {
      "cell_type": "code",
      "source": [
        "! nvidia-smi"
      ],
      "metadata": {
        "colab": {
          "base_uri": "https://localhost:8080/"
        },
        "id": "IBGNraktLcWe",
        "outputId": "73998436-a8cb-4904-9b81-d2eaa0ef25ed"
      },
      "execution_count": 2,
      "outputs": [
        {
          "output_type": "stream",
          "name": "stdout",
          "text": [
            "Mon Dec 16 03:20:56 2024       \n",
            "+---------------------------------------------------------------------------------------+\n",
            "| NVIDIA-SMI 535.104.05             Driver Version: 535.104.05   CUDA Version: 12.2     |\n",
            "|-----------------------------------------+----------------------+----------------------+\n",
            "| GPU  Name                 Persistence-M | Bus-Id        Disp.A | Volatile Uncorr. ECC |\n",
            "| Fan  Temp   Perf          Pwr:Usage/Cap |         Memory-Usage | GPU-Util  Compute M. |\n",
            "|                                         |                      |               MIG M. |\n",
            "|=========================================+======================+======================|\n",
            "|   0  Tesla T4                       Off | 00000000:00:04.0 Off |                    0 |\n",
            "| N/A   61C    P0              42W /  70W |      0MiB / 15360MiB |      0%      Default |\n",
            "|                                         |                      |                  N/A |\n",
            "+-----------------------------------------+----------------------+----------------------+\n",
            "                                                                                         \n",
            "+---------------------------------------------------------------------------------------+\n",
            "| Processes:                                                                            |\n",
            "|  GPU   GI   CI        PID   Type   Process name                            GPU Memory |\n",
            "|        ID   ID                                                             Usage      |\n",
            "|=======================================================================================|\n",
            "|  No running processes found                                                           |\n",
            "+---------------------------------------------------------------------------------------+\n"
          ]
        }
      ]
    },
    {
      "cell_type": "code",
      "execution_count": 3,
      "metadata": {
        "colab": {
          "base_uri": "https://localhost:8080/"
        },
        "id": "9yRIhS6lOTYX",
        "outputId": "fda387d1-1f48-41ba-f429-7acfc3c7ee3a"
      },
      "outputs": [
        {
          "output_type": "stream",
          "name": "stdout",
          "text": [
            "Requirement already satisfied: datasets==3.1.0 in /usr/local/lib/python3.10/dist-packages (3.1.0)\n",
            "Requirement already satisfied: filelock in /usr/local/lib/python3.10/dist-packages (from datasets==3.1.0) (3.16.1)\n",
            "Requirement already satisfied: numpy>=1.17 in /usr/local/lib/python3.10/dist-packages (from datasets==3.1.0) (1.26.4)\n",
            "Requirement already satisfied: pyarrow>=15.0.0 in /usr/local/lib/python3.10/dist-packages (from datasets==3.1.0) (18.1.0)\n",
            "Requirement already satisfied: dill<0.3.9,>=0.3.0 in /usr/local/lib/python3.10/dist-packages (from datasets==3.1.0) (0.3.8)\n",
            "Requirement already satisfied: pandas in /usr/local/lib/python3.10/dist-packages (from datasets==3.1.0) (2.1.4)\n",
            "Requirement already satisfied: requests>=2.32.2 in /usr/local/lib/python3.10/dist-packages (from datasets==3.1.0) (2.32.3)\n",
            "Requirement already satisfied: tqdm>=4.66.3 in /usr/local/lib/python3.10/dist-packages (from datasets==3.1.0) (4.66.5)\n",
            "Requirement already satisfied: xxhash in /usr/local/lib/python3.10/dist-packages (from datasets==3.1.0) (3.5.0)\n",
            "Requirement already satisfied: multiprocess<0.70.17 in /usr/local/lib/python3.10/dist-packages (from datasets==3.1.0) (0.70.16)\n",
            "Requirement already satisfied: fsspec<=2024.9.0,>=2023.1.0 in /usr/local/lib/python3.10/dist-packages (from fsspec[http]<=2024.9.0,>=2023.1.0->datasets==3.1.0) (2024.6.1)\n",
            "Requirement already satisfied: aiohttp in /usr/local/lib/python3.10/dist-packages (from datasets==3.1.0) (3.10.5)\n",
            "Requirement already satisfied: huggingface-hub>=0.23.0 in /usr/local/lib/python3.10/dist-packages (from datasets==3.1.0) (0.24.7)\n",
            "Requirement already satisfied: packaging in /usr/local/lib/python3.10/dist-packages (from datasets==3.1.0) (24.1)\n",
            "Requirement already satisfied: pyyaml>=5.1 in /usr/local/lib/python3.10/dist-packages (from datasets==3.1.0) (6.0.2)\n",
            "Requirement already satisfied: aiohappyeyeballs>=2.3.0 in /usr/local/lib/python3.10/dist-packages (from aiohttp->datasets==3.1.0) (2.4.0)\n",
            "Requirement already satisfied: aiosignal>=1.1.2 in /usr/local/lib/python3.10/dist-packages (from aiohttp->datasets==3.1.0) (1.3.1)\n",
            "Requirement already satisfied: attrs>=17.3.0 in /usr/local/lib/python3.10/dist-packages (from aiohttp->datasets==3.1.0) (24.2.0)\n",
            "Requirement already satisfied: frozenlist>=1.1.1 in /usr/local/lib/python3.10/dist-packages (from aiohttp->datasets==3.1.0) (1.4.1)\n",
            "Requirement already satisfied: multidict<7.0,>=4.5 in /usr/local/lib/python3.10/dist-packages (from aiohttp->datasets==3.1.0) (6.1.0)\n",
            "Requirement already satisfied: yarl<2.0,>=1.0 in /usr/local/lib/python3.10/dist-packages (from aiohttp->datasets==3.1.0) (1.11.1)\n",
            "Requirement already satisfied: async-timeout<5.0,>=4.0 in /usr/local/lib/python3.10/dist-packages (from aiohttp->datasets==3.1.0) (4.0.3)\n",
            "Requirement already satisfied: typing-extensions>=3.7.4.3 in /usr/local/lib/python3.10/dist-packages (from huggingface-hub>=0.23.0->datasets==3.1.0) (4.12.2)\n",
            "Requirement already satisfied: charset-normalizer<4,>=2 in /usr/local/lib/python3.10/dist-packages (from requests>=2.32.2->datasets==3.1.0) (3.3.2)\n",
            "Requirement already satisfied: idna<4,>=2.5 in /usr/local/lib/python3.10/dist-packages (from requests>=2.32.2->datasets==3.1.0) (3.10)\n",
            "Requirement already satisfied: urllib3<3,>=1.21.1 in /usr/local/lib/python3.10/dist-packages (from requests>=2.32.2->datasets==3.1.0) (2.2.3)\n",
            "Requirement already satisfied: certifi>=2017.4.17 in /usr/local/lib/python3.10/dist-packages (from requests>=2.32.2->datasets==3.1.0) (2024.8.30)\n",
            "Requirement already satisfied: python-dateutil>=2.8.2 in /usr/local/lib/python3.10/dist-packages (from pandas->datasets==3.1.0) (2.8.2)\n",
            "Requirement already satisfied: pytz>=2020.1 in /usr/local/lib/python3.10/dist-packages (from pandas->datasets==3.1.0) (2024.2)\n",
            "Requirement already satisfied: tzdata>=2022.1 in /usr/local/lib/python3.10/dist-packages (from pandas->datasets==3.1.0) (2024.1)\n",
            "Requirement already satisfied: six>=1.5 in /usr/local/lib/python3.10/dist-packages (from python-dateutil>=2.8.2->pandas->datasets==3.1.0) (1.16.0)\n",
            "Requirement already satisfied: transformers in /usr/local/lib/python3.10/dist-packages (4.44.2)\n",
            "Requirement already satisfied: accelerate in /usr/local/lib/python3.10/dist-packages (0.34.2)\n",
            "Requirement already satisfied: evaluate in /usr/local/lib/python3.10/dist-packages (0.4.3)\n",
            "Requirement already satisfied: filelock in /usr/local/lib/python3.10/dist-packages (from transformers) (3.16.1)\n",
            "Requirement already satisfied: huggingface-hub<1.0,>=0.23.2 in /usr/local/lib/python3.10/dist-packages (from transformers) (0.24.7)\n",
            "Requirement already satisfied: numpy>=1.17 in /usr/local/lib/python3.10/dist-packages (from transformers) (1.26.4)\n",
            "Requirement already satisfied: packaging>=20.0 in /usr/local/lib/python3.10/dist-packages (from transformers) (24.1)\n",
            "Requirement already satisfied: pyyaml>=5.1 in /usr/local/lib/python3.10/dist-packages (from transformers) (6.0.2)\n",
            "Requirement already satisfied: regex!=2019.12.17 in /usr/local/lib/python3.10/dist-packages (from transformers) (2024.9.11)\n",
            "Requirement already satisfied: requests in /usr/local/lib/python3.10/dist-packages (from transformers) (2.32.3)\n",
            "Requirement already satisfied: safetensors>=0.4.1 in /usr/local/lib/python3.10/dist-packages (from transformers) (0.4.5)\n",
            "Requirement already satisfied: tokenizers<0.20,>=0.19 in /usr/local/lib/python3.10/dist-packages (from transformers) (0.19.1)\n",
            "Requirement already satisfied: tqdm>=4.27 in /usr/local/lib/python3.10/dist-packages (from transformers) (4.66.5)\n",
            "Requirement already satisfied: psutil in /usr/local/lib/python3.10/dist-packages (from accelerate) (5.9.5)\n",
            "Requirement already satisfied: torch>=1.10.0 in /usr/local/lib/python3.10/dist-packages (from accelerate) (2.4.1+cu121)\n",
            "Requirement already satisfied: datasets>=2.0.0 in /usr/local/lib/python3.10/dist-packages (from evaluate) (3.1.0)\n",
            "Requirement already satisfied: dill in /usr/local/lib/python3.10/dist-packages (from evaluate) (0.3.8)\n",
            "Requirement already satisfied: pandas in /usr/local/lib/python3.10/dist-packages (from evaluate) (2.1.4)\n",
            "Requirement already satisfied: xxhash in /usr/local/lib/python3.10/dist-packages (from evaluate) (3.5.0)\n",
            "Requirement already satisfied: multiprocess in /usr/local/lib/python3.10/dist-packages (from evaluate) (0.70.16)\n",
            "Requirement already satisfied: fsspec>=2021.05.0 in /usr/local/lib/python3.10/dist-packages (from fsspec[http]>=2021.05.0->evaluate) (2024.6.1)\n",
            "Requirement already satisfied: pyarrow>=15.0.0 in /usr/local/lib/python3.10/dist-packages (from datasets>=2.0.0->evaluate) (18.1.0)\n",
            "Requirement already satisfied: aiohttp in /usr/local/lib/python3.10/dist-packages (from datasets>=2.0.0->evaluate) (3.10.5)\n",
            "Requirement already satisfied: typing-extensions>=3.7.4.3 in /usr/local/lib/python3.10/dist-packages (from huggingface-hub<1.0,>=0.23.2->transformers) (4.12.2)\n",
            "Requirement already satisfied: charset-normalizer<4,>=2 in /usr/local/lib/python3.10/dist-packages (from requests->transformers) (3.3.2)\n",
            "Requirement already satisfied: idna<4,>=2.5 in /usr/local/lib/python3.10/dist-packages (from requests->transformers) (3.10)\n",
            "Requirement already satisfied: urllib3<3,>=1.21.1 in /usr/local/lib/python3.10/dist-packages (from requests->transformers) (2.2.3)\n",
            "Requirement already satisfied: certifi>=2017.4.17 in /usr/local/lib/python3.10/dist-packages (from requests->transformers) (2024.8.30)\n",
            "Requirement already satisfied: sympy in /usr/local/lib/python3.10/dist-packages (from torch>=1.10.0->accelerate) (1.13.3)\n",
            "Requirement already satisfied: networkx in /usr/local/lib/python3.10/dist-packages (from torch>=1.10.0->accelerate) (3.3)\n",
            "Requirement already satisfied: jinja2 in /usr/local/lib/python3.10/dist-packages (from torch>=1.10.0->accelerate) (3.1.4)\n",
            "Requirement already satisfied: python-dateutil>=2.8.2 in /usr/local/lib/python3.10/dist-packages (from pandas->evaluate) (2.8.2)\n",
            "Requirement already satisfied: pytz>=2020.1 in /usr/local/lib/python3.10/dist-packages (from pandas->evaluate) (2024.2)\n",
            "Requirement already satisfied: tzdata>=2022.1 in /usr/local/lib/python3.10/dist-packages (from pandas->evaluate) (2024.1)\n",
            "Requirement already satisfied: aiohappyeyeballs>=2.3.0 in /usr/local/lib/python3.10/dist-packages (from aiohttp->datasets>=2.0.0->evaluate) (2.4.0)\n",
            "Requirement already satisfied: aiosignal>=1.1.2 in /usr/local/lib/python3.10/dist-packages (from aiohttp->datasets>=2.0.0->evaluate) (1.3.1)\n",
            "Requirement already satisfied: attrs>=17.3.0 in /usr/local/lib/python3.10/dist-packages (from aiohttp->datasets>=2.0.0->evaluate) (24.2.0)\n",
            "Requirement already satisfied: frozenlist>=1.1.1 in /usr/local/lib/python3.10/dist-packages (from aiohttp->datasets>=2.0.0->evaluate) (1.4.1)\n",
            "Requirement already satisfied: multidict<7.0,>=4.5 in /usr/local/lib/python3.10/dist-packages (from aiohttp->datasets>=2.0.0->evaluate) (6.1.0)\n",
            "Requirement already satisfied: yarl<2.0,>=1.0 in /usr/local/lib/python3.10/dist-packages (from aiohttp->datasets>=2.0.0->evaluate) (1.11.1)\n",
            "Requirement already satisfied: async-timeout<5.0,>=4.0 in /usr/local/lib/python3.10/dist-packages (from aiohttp->datasets>=2.0.0->evaluate) (4.0.3)\n",
            "Requirement already satisfied: six>=1.5 in /usr/local/lib/python3.10/dist-packages (from python-dateutil>=2.8.2->pandas->evaluate) (1.16.0)\n",
            "Requirement already satisfied: MarkupSafe>=2.0 in /usr/local/lib/python3.10/dist-packages (from jinja2->torch>=1.10.0->accelerate) (2.1.5)\n",
            "Requirement already satisfied: mpmath<1.4,>=1.1.0 in /usr/local/lib/python3.10/dist-packages (from sympy->torch>=1.10.0->accelerate) (1.3.0)\n"
          ]
        }
      ],
      "source": [
        "! pip install datasets==3.1.0\n",
        "# #load_dataset sometimes hangs on a higher version\n",
        "! pip install transformers accelerate evaluate"
      ]
    },
    {
      "cell_type": "code",
      "source": [
        "! unzip /content/data.zip"
      ],
      "metadata": {
        "colab": {
          "base_uri": "https://localhost:8080/"
        },
        "id": "CkZIjE-fLltK",
        "outputId": "5d3e7d65-0332-4d4f-af16-f485ace3d08c"
      },
      "execution_count": 4,
      "outputs": [
        {
          "output_type": "stream",
          "name": "stdout",
          "text": [
            "Archive:  /content/data.zip\n",
            "replace data/all_dev.json? [y]es, [n]o, [A]ll, [N]one, [r]ename: n\n",
            "replace data/all_train.json? [y]es, [n]o, [A]ll, [N]one, [r]ename: n\n"
          ]
        }
      ]
    },
    {
      "cell_type": "markdown",
      "metadata": {
        "id": "JifsBqXxmtqm"
      },
      "source": [
        "# Preprocessing"
      ]
    },
    {
      "cell_type": "code",
      "execution_count": 5,
      "metadata": {
        "id": "OjX3Y-kCzdpE"
      },
      "outputs": [],
      "source": [
        "from datasets import load_dataset\n",
        "import os\n",
        "import torch\n",
        "from torch import nn\n",
        "import numpy as np\n",
        "import random\n",
        "from torch.utils.data import Dataset, DataLoader\n",
        "from transformers import DistilBertTokenizerFast, DistilBertForQuestionAnswering, AutoModelForQuestionAnswering, AutoTokenizer\n",
        "from accelerate import Accelerator\n",
        "from tqdm import tqdm\n",
        "from torch.optim import AdamW\n",
        "from transformers import get_scheduler\n",
        "from evaluate import EvaluationModule\n",
        "from evaluate import load as load_metric\n",
        "from torch.optim import Optimizer\n",
        "\n",
        "# we set up some seeds so that we can reproduce results\n",
        "seed = 123\n",
        "torch.manual_seed(seed)\n",
        "torch.cuda.manual_seed(seed)\n",
        "torch.cuda.manual_seed_all(seed)\n",
        "\n",
        "np.random.seed(seed)\n",
        "random.seed(seed)\n",
        "torch.backends.cudnn.benchmark = False\n",
        "torch.backends.cudnn.deterministic = True\n"
      ]
    },
    {
      "cell_type": "markdown",
      "source": [
        "## loading dataset"
      ],
      "metadata": {
        "id": "zlNOwOZPH-Jb"
      }
    },
    {
      "cell_type": "code",
      "source": [
        "def load_data(folder_path: str):\n",
        "    data_files = {\"train\": os.path.join(folder_path, \"all_train.json\"), \"dev\": os.path.join(folder_path, \"all_dev.json\")}\n",
        "    dataset = load_dataset('json', data_files=data_files)\n",
        "    return dataset"
      ],
      "metadata": {
        "id": "L8j4JtSgSUdL"
      },
      "execution_count": 6,
      "outputs": []
    },
    {
      "cell_type": "code",
      "execution_count": 7,
      "metadata": {
        "id": "eMoGcjRgMk1E"
      },
      "outputs": [],
      "source": [
        "# Change train.json / dev.json to the appropriate filepaths =====\n",
        "# folder_path = \"/content/drive/MyDrive/ComputationalLinguistics/Final\"\n",
        "folder_path = \"/content/data\"\n",
        "# loading dataset\n",
        "data_files = {\"train\": os.path.join(folder_path, \"all_train.json\"), \"dev\": os.path.join(folder_path, \"all_dev.json\")}\n",
        "# loading dataset\n",
        "dataset = load_dataset('json', data_files=data_files)"
      ]
    },
    {
      "cell_type": "code",
      "execution_count": 8,
      "metadata": {
        "id": "0gx_15a_cWE7",
        "colab": {
          "base_uri": "https://localhost:8080/"
        },
        "outputId": "e7dbfc61-6d0b-43c4-ad53-6284c50c7882"
      },
      "outputs": [
        {
          "output_type": "stream",
          "name": "stderr",
          "text": [
            "/usr/local/lib/python3.10/dist-packages/huggingface_hub/utils/_token.py:89: UserWarning: \n",
            "The secret `HF_TOKEN` does not exist in your Colab secrets.\n",
            "To authenticate with the Hugging Face Hub, create a token in your settings tab (https://huggingface.co/settings/tokens), set it as secret in your Google Colab and restart your session.\n",
            "You will be able to reuse this secret in all of your notebooks.\n",
            "Please note that authentication is recommended but still optional to access public models or datasets.\n",
            "  warnings.warn(\n",
            "/usr/local/lib/python3.10/dist-packages/transformers/tokenization_utils_base.py:1601: FutureWarning: `clean_up_tokenization_spaces` was not set. It will be set to `True` by default. This behavior will be depracted in transformers v4.45, and will be then set to `False` by default. For more details check this issue: https://github.com/huggingface/transformers/issues/31884\n",
            "  warnings.warn(\n",
            "Some weights of DistilBertForQuestionAnswering were not initialized from the model checkpoint at distilbert-base-uncased and are newly initialized: ['qa_outputs.bias', 'qa_outputs.weight']\n",
            "You should probably TRAIN this model on a down-stream task to be able to use it for predictions and inference.\n"
          ]
        }
      ],
      "source": [
        "# defining model and tokenizer\n",
        "def load_model(model_name: str):\n",
        "    tokenizer = DistilBertTokenizerFast.from_pretrained(model_name)\n",
        "    bert_model = DistilBertForQuestionAnswering.from_pretrained(model_name).to(device)\n",
        "    return bert_model, tokenizer\n",
        "\n",
        "device = \"cuda\" if torch.cuda.is_available() else \"cpu\"\n",
        "model_name = \"distilbert-base-uncased\"\n",
        "tokenizer = DistilBertTokenizerFast.from_pretrained(model_name)\n",
        "bert_model = DistilBertForQuestionAnswering.from_pretrained(model_name).to(device)"
      ]
    },
    {
      "cell_type": "markdown",
      "source": [
        "## constructing dataset class"
      ],
      "metadata": {
        "id": "UUz4labiIB74"
      }
    },
    {
      "cell_type": "code",
      "execution_count": 9,
      "metadata": {
        "id": "5U85PRjRdfeN"
      },
      "outputs": [],
      "source": [
        "# defining dataset class for dataloaders\n",
        "class QADataset(Dataset):\n",
        "    def __init__(self, data: list, tokenizer: AutoTokenizer, max_length: int = 512):\n",
        "        \"\"\"\n",
        "        data: list\n",
        "            list of json objects\n",
        "        tokenizer: AutoTokenizer\n",
        "            tokenizer for the model\n",
        "        max_length: int\n",
        "            max length of the input\n",
        "        \"\"\"\n",
        "        self.data = data\n",
        "        self.tokenizer = tokenizer\n",
        "        self.max_length = max_length\n",
        "\n",
        "    def __len__(self):\n",
        "        return len(self.data)\n",
        "\n",
        "    def __getitem__(self, idx):\n",
        "        # get elements in each sample\n",
        "        # each sample is in json's format\n",
        "        example = self.data[idx]\n",
        "        question = example['questions'][0]['input_text'] # str\n",
        "        context = example['contexts'] # str\n",
        "        answer = example['answers'][0] # dict: span_start, span_end, answer string...\n",
        "        # Tokenize question and context together => [CLS]<question tokens>[SEP]<context tokens>[SEP][PAD]...\n",
        "        inputs = self.tokenizer(\n",
        "            question,\n",
        "            context,\n",
        "            truncation=\"only_second\",\n",
        "            max_length=self.max_length,\n",
        "            # offset mapping helps us map tokens back to a word\n",
        "            return_offsets_mapping=True,\n",
        "            padding=\"max_length\",\n",
        "            # return_token_type_ids=True\n",
        "        )\n",
        "        \"\"\"\n",
        "        offsets: list\n",
        "            [(i, j), ... ]\n",
        "            each n-th item in the list is a tuple, corresponding to the n-th token in an encoded sequence\n",
        "            i = start position of the token in the original sequence\n",
        "            j = end position of the token in the original sequence\n",
        "        \"\"\"\n",
        "        offsets = inputs.pop('offset_mapping')\n",
        "        start_char = answer[\"span_start\"]\n",
        "        end_char = answer[\"span_end\"]\n",
        "        sequence_ids = inputs.sequence_ids(0)\n",
        "        # getting context's position\n",
        "        idx = 0\n",
        "        while sequence_ids[idx] != 1:\n",
        "            idx += 1\n",
        "        context_start = idx\n",
        "        while sequence_ids[idx] == 1:\n",
        "            idx += 1\n",
        "        context_end = idx - 1\n",
        "        # If the answer is not inside the context, or, unanswerable (-1, -1), label it (0, 0)\n",
        "        if start_char == -1 or end_char == -1 or offsets[context_start][0] > end_char or offsets[context_end][1] < start_char:\n",
        "            inputs[\"start_positions\"] = 0\n",
        "            inputs[\"end_positions\"] = 0\n",
        "            inputs['answer_type'] = 0\n",
        "        else:\n",
        "            # source: https://huggingface.co/docs/transformers/tasks/question_answering\n",
        "            # Otherwise it's the start and end token positions\n",
        "            idx = context_start\n",
        "            # go with an index-ascending way: context_start, context_start + 1...\n",
        "            while idx <= context_end and offsets[idx][0] <= start_char:\n",
        "                idx += 1\n",
        "            inputs[\"start_positions\"] = idx - 1\n",
        "            idx = context_end\n",
        "            # go with an index-descending way: context_end, context_end - 1...\n",
        "            while idx >= context_start and offsets[idx][1] >= end_char:\n",
        "                idx -= 1\n",
        "            inputs[\"end_positions\"] = idx + 1\n",
        "            inputs['answer_type'] = 1\n",
        "        \"\"\"\n",
        "        {\n",
        "            \"inpud_ids\":<inpud_ids>,\n",
        "            \"attention_mask\":<attention_mask>,\n",
        "            \"start_positions\":<start_position>,\n",
        "            \"end_positions\":<end_position>,\n",
        "            \"answer_type\":<answer_type>\n",
        "        }\n",
        "        \"\"\"\n",
        "        return {k:torch.tensor(v) for k, v in inputs.items()}\n"
      ]
    },
    {
      "cell_type": "markdown",
      "source": [
        "## building up dataloaders"
      ],
      "metadata": {
        "id": "kv9Aat0LIHza"
      }
    },
    {
      "cell_type": "code",
      "execution_count": 10,
      "metadata": {
        "id": "6DU3jaOkcNfo"
      },
      "outputs": [],
      "source": [
        "# defining datasets and dataloaders\n",
        "def load_dataloader(dataset: dict, tokenizer: AutoTokenizer, batch_size: int = 32):\n",
        "    train_dataset = QADataset(dataset['train'], tokenizer)\n",
        "    validation_dataset = QADataset(dataset['dev'], tokenizer)\n",
        "    train_dataloader = DataLoader(train_dataset, batch_size=batch_size, shuffle=True)\n",
        "    validation_dataloader = DataLoader(validation_dataset, batch_size=batch_size)\n",
        "    return train_dataloader, validation_dataloader\n",
        "\n",
        "batch_size = 32\n",
        "train_dataset = QADataset(dataset['train'], tokenizer)\n",
        "validation_dataset = QADataset(dataset['dev'], tokenizer)\n",
        "train_dataloader = DataLoader(train_dataset, batch_size=batch_size, shuffle=True)\n",
        "validation_dataloader = DataLoader(validation_dataset, batch_size=batch_size)"
      ]
    },
    {
      "cell_type": "markdown",
      "source": [
        "# Model-related Preparation for Training and Validation"
      ],
      "metadata": {
        "id": "BPUd4NNEAv0U"
      }
    },
    {
      "cell_type": "markdown",
      "source": [
        "## Creating joint model class\n",
        "\n",
        "The class of QuestionAnsweringWithTypePrediction will predict three things: start positions, end positions, and answer types. Start positions and end positions are predicted through BERT-based QA models, while answer types are predicted by a linear classifier.\n",
        "\n",
        "BERT models returns logits for the two positions, each with the shape of (batch size,  input dimension). The classifer takes the last hidden representation of [CLS] as input and returns logits of (batch size, # of answer type)."
      ],
      "metadata": {
        "id": "QLBgkEFBIOuq"
      }
    },
    {
      "cell_type": "code",
      "execution_count": 11,
      "metadata": {
        "id": "NmJlVZUFvvzv"
      },
      "outputs": [],
      "source": [
        "# Model that predics spans and answer types\n",
        "class QuestionAnsweringWithTypePrediction(nn.Module):\n",
        "    def __init__(self, pretrained_model: AutoModelForQuestionAnswering, answer_type: int = 2):\n",
        "        \"\"\"\n",
        "        pretrained_model: AutoModelForQuestionAnswering\n",
        "            pretrained model for question answering\n",
        "        answer_type: int\n",
        "            number of answer types\n",
        "        \"\"\"\n",
        "        super(QuestionAnsweringWithTypePrediction, self).__init__()\n",
        "        self.bert_qa = pretrained_model.from_pretrained(model_name)\n",
        "        self.type_classifier = nn.Linear(self.bert_qa.config.hidden_size, answer_type)  # Binary classification head\n",
        "    def forward(self, input_ids, attention_mask, token_type_ids=None, start_positions=None, end_positions=None):\n",
        "        \"\"\"\n",
        "        input_ids: torch.Tensor\n",
        "            input ids for the model\n",
        "        attention_mask: torch.Tensor\n",
        "            attention mask for the model\n",
        "        token_type_ids: torch.Tensor\n",
        "            token type ids for the model\n",
        "        start_positions: torch.Tensor\n",
        "            start positions for the model\n",
        "        end_positions: torch.Tensor\n",
        "            end positions for the model\n",
        "        \"\"\"\n",
        "        outputs = self.bert_qa(\n",
        "            input_ids, attention_mask=attention_mask,\n",
        "            # token_type_ids=token_type_ids,\n",
        "            start_positions = start_positions, end_positions = end_positions, output_hidden_states=True\n",
        "        )\n",
        "        # get the representation of [CLS] from the last hidden state\n",
        "        pooled_output = outputs.hidden_states[-1][:, 0, :]\n",
        "        # get the output logits of linear classifier\n",
        "        type_logits = self.type_classifier(pooled_output)\n",
        "        # returning logits for loss calculation\n",
        "        return {\n",
        "            \"start_logits\": outputs.start_logits,\n",
        "            \"end_logits\": outputs.end_logits,\n",
        "            \"type_logits\": type_logits\n",
        "        }\n",
        "# loss term according to the paper\n",
        "class Loss(nn.Module):\n",
        "    def __init__(self):\n",
        "        super(Loss, self).__init__()\n",
        "        self.loss_fn = nn.CrossEntropyLoss()\n",
        "    def forward(self, start_logits, end_logits, type_logits, start_positions, end_positions, type_labels):\n",
        "        \"\"\"\n",
        "        start_logits: torch.Tensor\n",
        "            start logits for the model\n",
        "        end_logits: torch.Tensor\n",
        "            end logits for the model\n",
        "        type_logits: torch.Tensor\n",
        "            type logits for the model\n",
        "        \"\"\"\n",
        "        # # get softmax of the logits\n",
        "        # # log_softmax is a compound function, more stable than -log(softmax()) numericaly\n",
        "        # loss_start = -nn.functional.log_softmax(start_logits, dim = -1)[:, start_positions]\n",
        "        # loss_end = -nn.functional.log_softmax(end_logits, dim = -1)[:, end_positions]\n",
        "        # loss_type = -nn.functional.log_softmax(type_logits, dim = -1)[:, type_labels]\n",
        "        # return loss_start.mean() + loss_end.mean() + loss_type.mean()\n",
        "        # # This one does not works! Not sure why...\n",
        "        # # nearly all predictions of position are index 0\n",
        "\n",
        "\n",
        "        # This one works!\n",
        "        loss_start = self.loss_fn(start_logits, start_positions)\n",
        "        loss_end = self.loss_fn(end_logits, end_positions)\n",
        "        loss_type = self.loss_fn(type_logits, type_labels)\n",
        "        return loss_start + loss_end + loss_type"
      ]
    },
    {
      "cell_type": "markdown",
      "source": [
        "## evaluation functions"
      ],
      "metadata": {
        "id": "WRy99Om2aEoT"
      }
    },
    {
      "cell_type": "code",
      "execution_count": 12,
      "metadata": {
        "id": "QZsRj_7M642W"
      },
      "outputs": [],
      "source": [
        "def evaluate(model, dataloader, loss_fn, device):\n",
        "    \"\"\"\n",
        "    Evaluate a question-answering model on precision, recall, and F1 score.\n",
        "\n",
        "    Parameters:\n",
        "    -----------\n",
        "    model : torch.nn.Module\n",
        "        The model to evaluate: QuestionAnsweringWithTypePrediction\n",
        "    dataloader : torch.utils.data.DataLoader\n",
        "        DataLoader for test data.\n",
        "    loss_fn : nn.Module\n",
        "        Loss function for evaluation.\n",
        "    device : torch.device\n",
        "        The device for computation.\n",
        "\n",
        "    Returns:\n",
        "    --------\n",
        "    dict\n",
        "        Average loss\n",
        "    \"\"\"\n",
        "    model.eval()\n",
        "    total_loss = 0.0\n",
        "    with torch.no_grad():\n",
        "        for batch in tqdm(dataloader, desc=\"Validation Progress\", total=len(dataloader), leave=True, ncols=100):\n",
        "            # Move batch to device\n",
        "            input_ids = batch['input_ids'].to(device)\n",
        "            attention_mask = batch['attention_mask'].to(device)\n",
        "            start_positions = batch['start_positions'].to(device)\n",
        "            end_positions = batch['end_positions'].to(device)\n",
        "            answer_type = batch['answer_type'].to(device)\n",
        "            # Forward pass\n",
        "            outputs = model(input_ids, attention_mask=attention_mask, start_positions=start_positions, end_positions=end_positions)\n",
        "            start_logits = outputs[\"start_logits\"]\n",
        "            end_logits = outputs[\"end_logits\"]\n",
        "            type_logits = outputs[\"type_logits\"]\n",
        "            # Calculate loss\n",
        "            loss = loss_fn(\n",
        "                start_logits, end_logits, type_logits,\n",
        "                start_positions, end_positions, answer_type\n",
        "            )\n",
        "            total_loss += loss.item()\n",
        "    avg_loss = total_loss / len(dataloader)\n",
        "    return {\n",
        "        \"loss\": avg_loss,\n",
        "    }\n",
        "\n",
        "def calculate_f1_precision_recall(y_pred, y_true):\n",
        "    \"\"\"\n",
        "    Calculate precision, recall, and F1 score.\n",
        "    Parameters:\n",
        "    -----------\n",
        "    y_pred : str\n",
        "        Predicted string.\n",
        "    y_true : str\n",
        "        True string.\n",
        "    Returns:\n",
        "    --------\n",
        "    tuple\n",
        "        Precision, recall, and F1 score\n",
        "    \"\"\"\n",
        "    # Calculate overlap\n",
        "    y_pred = y_pred.split()\n",
        "    y_true = y_true.split()\n",
        "    pred_tokens = set(y_pred)\n",
        "    true_tokens = set(y_true)\n",
        "    common_tokens = pred_tokens & true_tokens\n",
        "    # Precision and recall\n",
        "    precision = len(common_tokens) / len(pred_tokens) if pred_tokens else 0.0\n",
        "    recall = len(common_tokens) / len(true_tokens) if true_tokens else 0.0\n",
        "    # F1 score\n",
        "    if precision + recall > 0:\n",
        "        f1 = 2 * (precision * recall) / (precision + recall)\n",
        "    else:\n",
        "        f1 = 0.0\n",
        "    return precision, recall, f1\n",
        "\n",
        "def get_prediction_score(model, tokenizer, dataloader, device):\n",
        "    \"\"\"\n",
        "    Evaluate a question-answering model on precision, recall, and F1 score.\n",
        "\n",
        "    Parameters:\n",
        "    -----------\n",
        "    model : torch.nn.Module\n",
        "        The model to evaluate.\n",
        "    dataloader : torch.utils.data.DataLoader\n",
        "        DataLoader for test data.\n",
        "    loss_fn : nn.Module\n",
        "        Loss function for evaluation.\n",
        "    device : torch.device\n",
        "        The device for computation.\n",
        "    Returns:\n",
        "    --------\n",
        "    dict\n",
        "        Average loss\n",
        "    \"\"\"\n",
        "    predictions = {\"precision\":[], \"recall\":[], \"f1\":[]}\n",
        "    model.eval()\n",
        "    with torch.no_grad():\n",
        "        for batch in tqdm(dataloader, desc=\"Validation Progress\", total=len(dataloader), leave=True, ncols=100):\n",
        "            # Move batch to device\n",
        "            input_ids = batch['input_ids'].to(device)\n",
        "            attention_mask = batch['attention_mask'].to(device)\n",
        "            start_positions = batch['start_positions'].to(device)\n",
        "            end_positions = batch['end_positions'].to(device)\n",
        "            answer_type = batch['answer_type'].to(device)\n",
        "            context_length = input_ids.size(1)\n",
        "            # Forward pass\n",
        "            outputs = model(input_ids, attention_mask=attention_mask, start_positions=start_positions, end_positions=end_positions)\n",
        "            start_logits = outputs[\"start_logits\"]\n",
        "            end_logits = outputs[\"end_logits\"]\n",
        "            # type_logits = outputs[\"type_logits\"].argmax(dim=-1)\n",
        "            for i in range(len(start_logits)):\n",
        "                pred_start = start_logits[i].argmax(dim=-1).item()\n",
        "                pred_end = end_logits[i].argmax(dim=-1).item()\n",
        "                # making sure no out-of-bound indices\n",
        "                pred_start, pred_end = max(0, pred_start), min(pred_end, end_logits.size(-1))\n",
        "                # making sure start <= end\n",
        "                pred_start, pred_end = min(pred_start, pred_end), max(pred_start, pred_end)\n",
        "                # getting ground positions\n",
        "                true_start, true_end = start_positions[i].item(), end_positions[i].item()\n",
        "                # converting ids to tokens\n",
        "                y_pred = tokenizer.convert_ids_to_tokens(input_ids[i][pred_start:(pred_end + 1)])\n",
        "                y_pred = tokenizer.convert_tokens_to_string(y_pred)\n",
        "                # converting tokens back to strings\n",
        "                y_true = tokenizer.convert_ids_to_tokens(input_ids[i][true_start:(true_end + 1)])\n",
        "                y_true = tokenizer.convert_tokens_to_string(y_true)\n",
        "                # calculating scores\n",
        "                precision, recall, f1 = calculate_f1_precision_recall(y_pred, y_true)\n",
        "                predictions[\"precision\"].append(precision)\n",
        "                predictions[\"recall\"].append(recall)\n",
        "                predictions[\"f1\"].append(f1)\n",
        "    predictions = {key:(sum(value) / dataloader.dataset.__len__()) for key, value in predictions.items()}\n",
        "    return predictions"
      ]
    },
    {
      "cell_type": "markdown",
      "source": [
        "# train function"
      ],
      "metadata": {
        "id": "0Y0t1wUVaJF-"
      }
    },
    {
      "cell_type": "code",
      "execution_count": 13,
      "metadata": {
        "id": "aV9jWDXF78m6"
      },
      "outputs": [],
      "source": [
        "def train(model: torch.nn.Module,\n",
        "          optimizer: Optimizer,\n",
        "          num_epochs: int,\n",
        "          train_dataloader: DataLoader,\n",
        "          validation_dataloader: DataLoader,\n",
        "          loss_fn: nn.Module,\n",
        "          lr_scheduler: torch.optim.lr_scheduler.LambdaLR,\n",
        "          device: torch.device,\n",
        "          accum_iter: int,\n",
        "          accelerator: Accelerator\n",
        "          ) -> None:\n",
        "    \"\"\"\n",
        "    Trains a model by performing forward passes and backpropagating on batches to optimize loss.\n",
        "\n",
        "    Parameters:\n",
        "    -----------\n",
        "    model : torch.nn.Module\n",
        "        The model to be trained.\n",
        "    optimizer : torch.optim.Optimizer\n",
        "        The training optimizer.\n",
        "    num_epochs : int\n",
        "        Number of epochs to train for.\n",
        "    train_dataloader : DataLoader\n",
        "        DataLoader containing training examples.\n",
        "    validation_dataloader : DataLoader\n",
        "        DataLoader containing validation examples.\n",
        "    loss_fn : nn.Module\n",
        "        Loss function for evaluation.\n",
        "    accum_iter : int\n",
        "        Number of steps to accumulate gradients before updating weights.\n",
        "    lr_scheduler : torch.optim.lr_scheduler.LambdaLR\n",
        "        Learning rate scheduler.\n",
        "    device : torch.device\n",
        "        The device that the training will be performed on.\n",
        "    accelerator: Accelerator\n",
        "        The accelerator for distributed training.\n",
        "    \"\"\"\n",
        "    print(\"Training begins...\")\n",
        "    for epoch in range(num_epochs):\n",
        "        model.train()\n",
        "        train_metrics = {\"loss\":0.0}\n",
        "        for batch_idx, batch in tqdm(enumerate(train_dataloader), desc=\"Training Progress\", total=len(train_dataloader), leave=True, ncols=100):\n",
        "            # getting elements of the batch\n",
        "            input_ids = batch['input_ids'].to(device)\n",
        "            attention_mask = batch['attention_mask'].to(device)\n",
        "            start_positions = batch['start_positions'].to(device)\n",
        "            end_positions = batch['end_positions'].to(device)\n",
        "            answer_type = batch['answer_type'].to(device)\n",
        "            # model prediction: start_logits, end_logits, type_logits\n",
        "            outputs = model(input_ids, attention_mask=attention_mask, start_positions=start_positions, end_positions=end_positions)\n",
        "            loss = loss_fn(\n",
        "                outputs[\"start_logits\"], outputs[\"end_logits\"], outputs[\"type_logits\"],\n",
        "                start_positions, end_positions, answer_type\n",
        "            )\n",
        "            accelerator.backward(loss)\n",
        "            # gradient accumulation technique, helping reducing memory load\n",
        "            if ((batch_idx + 1) % accum_iter == 0) or (batch_idx + 1 == len(train_dataloader)):\n",
        "                optimizer.step()\n",
        "                lr_scheduler.step()\n",
        "                optimizer.zero_grad()\n",
        "            train_metrics[\"loss\"] += loss.item()\n",
        "        # display current result\n",
        "        print(f\"Epoch {epoch+1}\\n-------------------------------\")\n",
        "        print(\"Training\")\n",
        "        for key in train_metrics.keys():\n",
        "            train_metrics[key] /= len(train_dataloader.dataset)\n",
        "            print(f\"{key}: {train_metrics[key]:>3f}\")\n",
        "        print()\n",
        "        print(\"Validation\")\n",
        "        val_metrics = evaluate(model=model, dataloader=validation_dataloader, loss_fn=loss_fn, device=device)\n",
        "        print()\n",
        "        for key in val_metrics.keys():\n",
        "            print()\n",
        "            print(f\"{key}: {val_metrics[key]:>3f}\")\n",
        "        print()\n"
      ]
    },
    {
      "cell_type": "markdown",
      "source": [
        "## Model Instantiation and Training"
      ],
      "metadata": {
        "id": "p8jqmaklaNoU"
      }
    },
    {
      "cell_type": "code",
      "source": [
        "model = QuestionAnsweringWithTypePrediction(bert_model).to(device)\n",
        "\n",
        "# baseline, no training\n",
        "score_baseline = get_prediction_score(model, tokenizer, validation_dataloader, device)\n",
        "print()\n",
        "print(f\"precision: {score_baseline['precision']:>3f}\")\n",
        "print(f\"recall: {score_baseline['recall']:>3f}\")\n",
        "print(f\"f1: {score_baseline['f1']:>3f}\")"
      ],
      "metadata": {
        "id": "oohGMZkBGWkA",
        "colab": {
          "base_uri": "https://localhost:8080/"
        },
        "outputId": "21e67b24-cb1c-4114-9125-91bdf831f1c4"
      },
      "execution_count": 14,
      "outputs": [
        {
          "output_type": "stream",
          "name": "stderr",
          "text": [
            "Some weights of DistilBertForQuestionAnswering were not initialized from the model checkpoint at distilbert-base-uncased and are newly initialized: ['qa_outputs.bias', 'qa_outputs.weight']\n",
            "You should probably TRAIN this model on a down-stream task to be able to use it for predictions and inference.\n",
            "Validation Progress: 100%|██████████████████████████████████████████| 55/55 [00:32<00:00,  1.69it/s]"
          ]
        },
        {
          "output_type": "stream",
          "name": "stdout",
          "text": [
            "\n",
            "precision: 0.048043\n",
            "recall: 0.246843\n",
            "f1: 0.064559\n"
          ]
        },
        {
          "output_type": "stream",
          "name": "stderr",
          "text": [
            "\n"
          ]
        }
      ]
    },
    {
      "cell_type": "code",
      "execution_count": 15,
      "metadata": {
        "id": "zIo52mC8hB_D",
        "colab": {
          "base_uri": "https://localhost:8080/"
        },
        "outputId": "8ced6409-5042-4bda-bc41-9c94c241db2c"
      },
      "outputs": [
        {
          "output_type": "stream",
          "name": "stderr",
          "text": [
            "/usr/local/lib/python3.10/dist-packages/accelerate/accelerator.py:494: FutureWarning: `torch.cuda.amp.GradScaler(args...)` is deprecated. Please use `torch.amp.GradScaler('cuda', args...)` instead.\n",
            "  self.scaler = torch.cuda.amp.GradScaler(**kwargs)\n"
          ]
        },
        {
          "output_type": "stream",
          "name": "stdout",
          "text": [
            "Training begins...\n"
          ]
        },
        {
          "output_type": "stream",
          "name": "stderr",
          "text": [
            "Training Progress: 100%|██████████████████████████████████████████| 871/871 [08:18<00:00,  1.75it/s]\n"
          ]
        },
        {
          "output_type": "stream",
          "name": "stdout",
          "text": [
            "Epoch 1\n",
            "-------------------------------\n",
            "Training\n",
            "loss: 0.168507\n",
            "\n",
            "Validation\n"
          ]
        },
        {
          "output_type": "stream",
          "name": "stderr",
          "text": [
            "Validation Progress: 100%|██████████████████████████████████████████| 55/55 [00:11<00:00,  4.84it/s]\n"
          ]
        },
        {
          "output_type": "stream",
          "name": "stdout",
          "text": [
            "\n",
            "\n",
            "loss: 3.185933\n",
            "\n"
          ]
        },
        {
          "output_type": "stream",
          "name": "stderr",
          "text": [
            "Training Progress: 100%|██████████████████████████████████████████| 871/871 [08:19<00:00,  1.75it/s]\n"
          ]
        },
        {
          "output_type": "stream",
          "name": "stdout",
          "text": [
            "Epoch 2\n",
            "-------------------------------\n",
            "Training\n",
            "loss: 0.081466\n",
            "\n",
            "Validation\n"
          ]
        },
        {
          "output_type": "stream",
          "name": "stderr",
          "text": [
            "Validation Progress: 100%|██████████████████████████████████████████| 55/55 [00:11<00:00,  4.82it/s]\n"
          ]
        },
        {
          "output_type": "stream",
          "name": "stdout",
          "text": [
            "\n",
            "\n",
            "loss: 2.759846\n",
            "\n"
          ]
        }
      ],
      "source": [
        "model_path = os.path.join(folder_path, \"model_state_dict.pth\")\n",
        "if os.path.exists(model_path):\n",
        "    print(\"loading model from drive\")\n",
        "    model.load_state_dict(torch.load(model_path))\n",
        "else:\n",
        "    optimizer = AdamW(model.parameters(), lr=5e-5)\n",
        "    accum_iter = 4\n",
        "    num_epochs = 2\n",
        "    num_training_steps = num_epochs * len(train_dataloader)\n",
        "    lr_scheduler = get_scheduler(\n",
        "        \"linear\",\n",
        "        optimizer = optimizer,\n",
        "        num_warmup_steps = 50,\n",
        "        num_training_steps = num_training_steps\n",
        "    )\n",
        "    # reducing precision to fp16 can forge faster computing on T4\n",
        "    accelerator = Accelerator(mixed_precision=\"fp16\")\n",
        "    loss_fn = Loss()\n",
        "    model, optimizer, train_dataloader = accelerator.prepare(model, optimizer, train_dataloader)\n",
        "    train(model, optimizer, num_epochs, train_dataloader, validation_dataloader, loss_fn, lr_scheduler, device, accum_iter, accelerator)\n",
        "    torch.save(model.state_dict(), model_path)"
      ]
    },
    {
      "cell_type": "code",
      "source": [
        "score_trained = get_prediction_score(model, tokenizer, validation_dataloader, device)\n",
        "print()\n",
        "print(f\"precision: {score_trained['precision']:>3f}\")\n",
        "print(f\"recall: {score_trained['recall']:>3f}\")\n",
        "print(f\"f1: {score_trained['f1']:>3f}\")"
      ],
      "metadata": {
        "colab": {
          "base_uri": "https://localhost:8080/"
        },
        "id": "EY6nOSowXKrC",
        "outputId": "c35b4b51-126a-4b45-f455-601070ce7490"
      },
      "execution_count": 16,
      "outputs": [
        {
          "output_type": "stream",
          "name": "stderr",
          "text": [
            "Validation Progress: 100%|██████████████████████████████████████████| 55/55 [00:11<00:00,  4.63it/s]"
          ]
        },
        {
          "output_type": "stream",
          "name": "stdout",
          "text": [
            "\n",
            "precision: 0.688941\n",
            "recall: 0.760322\n",
            "f1: 0.683175\n"
          ]
        },
        {
          "output_type": "stream",
          "name": "stderr",
          "text": [
            "\n"
          ]
        }
      ]
    },
    {
      "cell_type": "code",
      "source": [
        "# prompt: generate figure to compare score_trained and score_baseline, let the legend stays at the bottom, either side is fine\n",
        "\n",
        "import matplotlib.pyplot as plt\n",
        "\n",
        "def plot_scores(score_baseline: dict, score_trained: dict):\n",
        "    metrics = ['precision', 'recall', 'f1']\n",
        "    score_baseline = [score_baseline[metric] for metric in metrics]\n",
        "    score_trained = [score_trained[metric] for metric in metrics]\n",
        "    x = range(len(metrics))\n",
        "    fig, ax = plt.subplots(figsize=(8, 6))\n",
        "    width = 0.35\n",
        "    rects1 = ax.bar(x, score_baseline, width, label='Baseline')\n",
        "    rects2 = ax.bar([i + width for i in x], score_trained, width, label='Trained')\n",
        "    ax.set_ylabel('Scores')\n",
        "    ax.set_title('Comparison of Baseline and Trained Model Scores')\n",
        "    ax.set_xticks([i + width / 2 for i in x])\n",
        "    ax.set_xticklabels(metrics)\n",
        "    ax.legend(loc='lower center', bbox_to_anchor=(0.5, -0.15), ncol=2) #legend at the bottom\n",
        "    plt.show()\n",
        "\n",
        "plot_scores(score_baseline, score_trained)"
      ],
      "metadata": {
        "colab": {
          "base_uri": "https://localhost:8080/",
          "height": 583
        },
        "id": "XeBcND4zI2JB",
        "outputId": "6ab3cdf6-3d59-41c9-c874-782885cf3200"
      },
      "execution_count": 17,
      "outputs": [
        {
          "output_type": "display_data",
          "data": {
            "text/plain": [
              "<Figure size 800x600 with 1 Axes>"
            ],
            "image/png": "[encoded data removed]"
          },
          "metadata": {}
        }
      ]
    },
    {
      "cell_type": "markdown",
      "source": [
        "# Main"
      ],
      "metadata": {
        "id": "a8V3t0JSZ55V"
      }
    },
    {
      "cell_type": "code",
      "execution_count": 19,
      "metadata": {
        "id": "KS9ZcP-umJLN",
        "colab": {
          "base_uri": "https://localhost:8080/",
          "height": 1000
        },
        "outputId": "049338e4-5e13-4280-8b39-53924b0d20c2"
      },
      "outputs": [
        {
          "output_type": "stream",
          "name": "stderr",
          "text": [
            "/usr/local/lib/python3.10/dist-packages/transformers/tokenization_utils_base.py:1601: FutureWarning: `clean_up_tokenization_spaces` was not set. It will be set to `True` by default. This behavior will be depracted in transformers v4.45, and will be then set to `False` by default. For more details check this issue: https://github.com/huggingface/transformers/issues/31884\n",
            "  warnings.warn(\n",
            "Some weights of DistilBertForQuestionAnswering were not initialized from the model checkpoint at distilbert-base-uncased and are newly initialized: ['qa_outputs.bias', 'qa_outputs.weight']\n",
            "You should probably TRAIN this model on a down-stream task to be able to use it for predictions and inference.\n",
            "Some weights of DistilBertForQuestionAnswering were not initialized from the model checkpoint at distilbert-base-uncased and are newly initialized: ['qa_outputs.bias', 'qa_outputs.weight']\n",
            "You should probably TRAIN this model on a down-stream task to be able to use it for predictions and inference.\n",
            "/usr/local/lib/python3.10/dist-packages/accelerate/accelerator.py:494: FutureWarning: `torch.cuda.amp.GradScaler(args...)` is deprecated. Please use `torch.amp.GradScaler('cuda', args...)` instead.\n",
            "  self.scaler = torch.cuda.amp.GradScaler(**kwargs)\n"
          ]
        },
        {
          "output_type": "stream",
          "name": "stdout",
          "text": [
            "running baseline\n"
          ]
        },
        {
          "output_type": "stream",
          "name": "stderr",
          "text": [
            "Validation Progress: 100%|██████████████████████████████████████████| 55/55 [00:12<00:00,  4.38it/s]\n",
            "<ipython-input-19-8347008292e9>:27: FutureWarning: You are using `torch.load` with `weights_only=False` (the current default value), which uses the default pickle module implicitly. It is possible to construct malicious pickle data which will execute arbitrary code during unpickling (See https://github.com/pytorch/pytorch/blob/main/SECURITY.md#untrusted-models for more details). In a future release, the default value for `weights_only` will be flipped to `True`. This limits the functions that could be executed during unpickling. Arbitrary objects will no longer be allowed to be loaded via this mode unless they are explicitly allowlisted by the user via `torch.serialization.add_safe_globals`. We recommend you start setting `weights_only=True` for any use case where you don't have full control of the loaded file. Please open an issue on GitHub for any issues related to this experimental feature.\n",
            "  model.load_state_dict(torch.load(model_path))\n"
          ]
        },
        {
          "output_type": "stream",
          "name": "stdout",
          "text": [
            "\n",
            "loading model from drive\n"
          ]
        },
        {
          "output_type": "stream",
          "name": "stderr",
          "text": [
            "Validation Progress: 100%|██████████████████████████████████████████| 55/55 [00:10<00:00,  5.00it/s]\n"
          ]
        },
        {
          "output_type": "stream",
          "name": "stdout",
          "text": [
            "\n",
            "baseline\n",
            "---------------------------------\n",
            "precision: 0.058903\n",
            "recall: 0.257688\n",
            "f1: 0.074815\n",
            "\n",
            "trained\n",
            "---------------------------------\n",
            "precision: 0.688941\n",
            "recall: 0.760322\n",
            "f1: 0.683175\n"
          ]
        },
        {
          "output_type": "display_data",
          "data": {
            "text/plain": [
              "<Figure size 800x600 with 1 Axes>"
            ],
            "image/png": "[encoded data removed]"
          },
          "metadata": {}
        }
      ],
      "source": [
        "def main():\n",
        "    \"\"\"get models and dataloaders\"\"\"\n",
        "    device = \"cuda\" if torch.cuda.is_available() else \"cpu\"\n",
        "    # folder_path = \"/content/drive/MyDrive/ComputationalLinguistice/Final\"\n",
        "    folder_path = \"/content/data\"\n",
        "    # getting the dataset\n",
        "    dataset = load_data(folder_path)\n",
        "    # getting the QA model and tokenizer\n",
        "    bert_model, tokenizer = load_model(\"distilbert-base-uncased\")\n",
        "    # getting dataloaders\n",
        "    train_dataloader, validation_dataloader = load_dataloader(dataset, tokenizer)\n",
        "    bert_model = bert_model.to(device)\n",
        "    # getting the target model with the ability to predict start positions, end positions, and answer type\n",
        "    model = QuestionAnsweringWithTypePrediction(bert_model).to(device)\n",
        "    \"\"\"define hypermeter\"\"\"\n",
        "    # Accelerator is our good friend that helps accelerate training progress\n",
        "    accelerator = Accelerator(mixed_precision=\"fp16\")\n",
        "    optimizer = AdamW(model.parameters(), lr=5e-5)\n",
        "    # put model, optimizer, and train_dataloader onto accelerator\n",
        "    model, optimizer, train_dataloader = accelerator.prepare(model, optimizer, train_dataloader)\n",
        "    model_path = os.path.join(folder_path, \"model_state_dict.pth\")\n",
        "    \"\"\"model training and inference\"\"\"\n",
        "    # check what our zero-shot model performs\n",
        "    print(\"running baseline\")\n",
        "    score_baseline = get_prediction_score(model, tokenizer, validation_dataloader, device)\n",
        "    print()\n",
        "    # if model exists, load the weights; train the model otherwise.\n",
        "    if os.path.exists(model_path):\n",
        "        print(\"loading model from drive\")\n",
        "        model.load_state_dict(torch.load(model_path))\n",
        "    else:\n",
        "        # self-defined loss according to the paper\n",
        "        loss_fn = Loss()\n",
        "        # accumulation step\n",
        "        accum_iter = 4\n",
        "        num_epochs = 2\n",
        "        num_training_steps = num_epochs * len(train_dataloader)\n",
        "        lr_scheduler = get_scheduler(\n",
        "            \"linear\",\n",
        "            optimizer = optimizer,\n",
        "            num_warmup_steps = 50,\n",
        "            num_training_steps = num_training_steps\n",
        "        )\n",
        "        # training begins here\n",
        "        train(model, optimizer, num_epochs, train_dataloader, validation_dataloader, loss_fn, device, accum_iter, accelerator)\n",
        "        # save the model for inference\n",
        "        torch.save(model.state_dict(), model_path)\n",
        "    # check how th model performs after being trained\n",
        "    score_trained = get_prediction_score(model, tokenizer, validation_dataloader, device)\n",
        "    print()\n",
        "    print(\"baseline\")\n",
        "    print(\"---------------------------------\")\n",
        "    print(f\"precision: {score_baseline['precision']:>3f}\")\n",
        "    print(f\"recall: {score_baseline['recall']:>3f}\")\n",
        "    print(f\"f1: {score_baseline['f1']:>3f}\")\n",
        "    print()\n",
        "    print(\"trained\")\n",
        "    print(\"---------------------------------\")\n",
        "    print(f\"precision: {score_trained['precision']:>3f}\")\n",
        "    print(f\"recall: {score_trained['recall']:>3f}\")\n",
        "    print(f\"f1: {score_trained['f1']:>3f}\")\n",
        "    # plot the results\n",
        "    plot_scores(score_baseline, score_trained)\n",
        "\n",
        "if __name__ == \"__main__\":\n",
        "  main()"
      ]
    },
    {
      "cell_type": "code",
      "source": [],
      "metadata": {
        "id": "CoXyIORTeu99"
      },
      "execution_count": 18,
      "outputs": []
    }
  ],
  "metadata": {
    "accelerator": "GPU",
    "colab": {
      "gpuType": "T4",
      "provenance": []
    },
    "kernelspec": {
      "display_name": "Python 3",
      "name": "python3"
    },
    "language_info": {
      "name": "python"
    }
  },
  "nbformat": 4,
  "nbformat_minor": 0
}